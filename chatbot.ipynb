{
  "cells": [
    {
      "cell_type": "markdown",
      "metadata": {
        "id": "view-in-github",
        "colab_type": "text"
      },
      "source": [
        "<a href=\"https://colab.research.google.com/github/jatinscodingproject/loan-chatbot/blob/main/chatbot.ipynb\" target=\"_parent\"><img src=\"https://colab.research.google.com/assets/colab-badge.svg\" alt=\"Open In Colab\"/></a>"
      ]
    },
    {
      "cell_type": "code",
      "execution_count": null,
      "metadata": {
        "id": "4LRHFs6mCfim"
      },
      "outputs": [],
      "source": [
        "from sklearn.feature_extraction.text import TfidfVectorizer\n",
        "from sklearn.metrics.pairwise import cosine_similarity\n",
        "from nltk.corpus import indian\n",
        "import bs4 as bs\n",
        "import warnings\n",
        "import urllib.request\n",
        "import nltk\n",
        "import random\n",
        "import string\n",
        "import datetime\n",
        "import re"
      ]
    },
    {
      "cell_type": "code",
      "execution_count": null,
      "metadata": {
        "colab": {
          "base_uri": "https://localhost:8080/"
        },
        "id": "coZcfhQYTwGm",
        "outputId": "4c0db9b2-51fa-45a7-b957-b29b5206bff9"
      },
      "outputs": [
        {
          "name": "stderr",
          "output_type": "stream",
          "text": [
            "[nltk_data] Downloading package wordnet to /root/nltk_data...\n",
            "[nltk_data] Downloading package punkt to /root/nltk_data...\n",
            "[nltk_data]   Unzipping tokenizers/punkt.zip.\n",
            "[nltk_data] Downloading package indian to /root/nltk_data...\n",
            "[nltk_data]   Unzipping corpora/indian.zip.\n"
          ]
        },
        {
          "data": {
            "text/plain": [
              "['पूर्ण', 'प्रतिबंध', 'हटाओ', ':', 'इराक', 'संयुक्त', ...]"
            ]
          },
          "execution_count": 2,
          "metadata": {},
          "output_type": "execute_result"
        }
      ],
      "source": [
        "# Uncomment these below if being run for the first time\n",
        "nltk.download('wordnet')\n",
        "nltk.download('punkt')\n",
        "nltk.download('indian')\n",
        "nltk.corpus.indian.words('hindi.pos')"
      ]
    },
    {
      "cell_type": "code",
      "execution_count": null,
      "metadata": {
        "id": "Kawkiui2T0yu"
      },
      "outputs": [],
      "source": [
        "# to filter warnings\n",
        "warnings.filterwarnings('ignore')"
      ]
    },
    {
      "cell_type": "code",
      "execution_count": null,
      "metadata": {
        "id": "Y6qswRiQlRuH"
      },
      "outputs": [],
      "source": [
        "# inputs for greeting\n",
        "greeting_inputs = ['हाय', 'नमस्ते']\n",
        "# inputs for a normal conversation\n",
        "convo_inputs = ['कैसे हो','अच्छे हो']\n",
        "# greeting responses by the bot\n",
        "greeting_responses = ['नमस्ते! मैं आपकी कैसे मदद कर सकता हूँ?',\n",
        "                      'सुनो! तो आप क्या जानना चाहते हैं?',\n",
        "                      'नमस्कार, आप मुझसे ऋण के संबंध में कुछ भी पूछ सकते हैं।']\n",
        "# conversation responses by the bot\n",
        "convo_responses = ['मैं ठीक हूँ आप कैसे हैं']\n",
        "# converstional response by the user\n",
        "convo_replies = ['मैं अपने लोन के बारे में जानना चाहता हूँ']\n",
        "# few limited questions and answers given as dictionary\n",
        "question_answers = {'आप क्या हो': 'मैं सहयोग हूँ, लोन सहायक',\n",
        "                    'आप कौन हो': 'मैं सहयोग हूँ, लोन सहायक',\n",
        "                    'तुम क्या हो': 'मैं सहयोग हूँ, लोन सहायक',\n",
        "                    'तुम कौन हो': 'मैं सहयोग हूँ, लोन सहायक',\n",
        "                    'आप क्या कर सकते हो': 'लोन संबंधी प्रश्नों के उत्तर दें!',\n",
        "                    'तुम कर सकते हो': 'लोन संबंधी प्रश्नों के उत्तर दें!',\n",
        "                    'आप को किसने बनाया है': 'मुझे Anurag , Vikas , Jatin  ने बनाया है',\n",
        "                    'लोन क्या है':'एक लोन एक संपत्ति, धन, या अन्य भौतिक सामान है जो किसी अन्य पार्टी को लोन मूल्य के भविष्य के पुनर्भुगतान के साथ-साथ ब्याज और अन्य वित्त शुल्क के बदले में दिया जाता है।',\n",
        "                    'व्यक्तिगत लोन क्या है':'एक व्यक्तिगत लोन (उपभोक्ता लोन के रूप में भी जाना जाता है) किसी भी स्थिति का वर्णन करता है जिसमें एक व्यक्ति व्यक्तिगत जरूरतों के लिए धन उधार लेता है, जिसमें कंपनी में निवेश करना शामिल है। सभी व्यक्तिगत ऋणों में तीन सामान्य तत्व होते हैं: ऋण का साक्ष्य (वचन पत्र) उधार ली गई राशि (मूलधन)',\n",
        "                    'वाहन लोन क्या है':'वाहन लोन एक ऐसा लोन है जो आपको व्यक्तिगत उपयोग के लिए दो और चार पहिया वाहन खरीदने की अनुमति देता है। आमतौर पर, ऋणदाता धन को लोन देता है (खरीदार की ओर से डीलर को सीधे भुगतान करता है) जबकि खरीदार को एक विशिष्ट ब्याज दर पर एक विशिष्ट अवधि में समान मासिक किश्तों (ईएमआई) में ऋण चुकाना होता है',\n",
        "                    'घर लोन क्या है':'घर खरीद लोन का उपयोग आवासीय संपत्ति खरीदने के लिए किया जाता है। ऋणदाता आमतौर पर 80-85% तक प्रदान करते हैंमंडी लोन राशि के रूप में घर का मूल्य। ऋणों की ब्याज दर या तो स्थिर, अस्थायी या संकर होती है।',\n",
        "                    'व्यक्तिगत लोन की पात्रता क्या है':'आयु: 21 वर्ष से 67 वर्ष*. सार्वजनिक, निजी, या एमएनसी कंपनी के साथ नौकरी. सिबिल स्कोर: 750 या उससे अधिक. मासिक सेलरी: कम से कम रु.25000',\n",
        "                    'घर लोन की पात्रता क्या है':'घर लोन की योग्यता आय की स्थिरता पर निर्भर करती है व्यवसाय या व्यवसाय की प्रकृति लोन की तलाश करने वाले की उम्र क्रेडिट स्कोर संपत्ति के गुण बैंक और कंपनी के साथ आपका संबंध है जो आप काम करते हैं। आमतौर पर, सभी बैंक आपके मासिक नेट के 60 गुने तक घर ऋण प्रदान करते हैं आय',\n",
        "                    'वाहन लोन की पात्रता क्या है':'क्तियों के पास मासिक होना चाहिएआय 20000 रुपये का अधिक। आपने अपने वर्तमान नियोक्ता के साथ रोजगार का 1 वर्ष पूरा कर लिया होगा। आवेदक व्यक्तियों को इस तरह से नियोजित किया जाना चाहिए कि इसे सरकार में नियोजित किया जा सकेसुविधा, एक निजी कंपनी में या यहां तक कि स्वरोजगार में।',\n",
        "                    'घर लोन अप्लाई करने के लिए किन दस्तावेजों की जरूरत होती है':'''होम लोन के लिए आवश्यक डॉक्यूमेंट की लिस्ट \\n\n",
        "                                                                             1.प्रॉपर्टी डॉक्यूमेंट \\n\n",
        "                                                                             2.सेल्स डीड, बिक्री का स्टाम्प्ड एग्रीमेंट, या एलॉटमेंट लेटर \\n\n",
        "                                                                             3.हाउसिंग सोसाइटी या बिल्डर से NOC \\n\n",
        "                                                                             4.भूमि/भूमि राजस्व/राजस्व विभाग के लिए कब्जा प्रमाणपत्र और भूमि कर रसीद \\n\n",
        "                                                                             5.निर्माण लागत का विस्तृत आकलन''',\n",
        "                    'व्यक्तिगत लोन अप्लाई करने के लिए किन दस्तावेजों की जरूरत होती है':''' पर्सनल लोन/ व्यक्तिगत ऋण एक प्रकार का असुरक्षित लोन है जो किसी योग्य आवेदक को उसकी फाइनेंशियल आवश्यकताओं को पूरा करने के लिए दिया जाता है। \\n\n",
        "                                                                             1.पहचान का प्रमाण (निम्नलिखित में से कोई एक): \\n\n",
        "                                                                             2.पैन कार्ड \\n\n",
        "                                                                             3.पासपोर्ट \\n\n",
        "                                                                             3.ड्राइविंग लाइसेंस \\n\n",
        "                                                                             4.मतदाता पहचान पत्र \\n\n",
        "                                                                             5.कर्मचारी आईडी \\n\n",
        "                                                                             5.बैंक पासबुक \\n\n",
        "                                                                             7.राशन पत्रिका''',\n",
        "                    'वाहन लोन अप्लाई करने के लिए किन दस्तावेजों की जरूरत होती है':'''कार लोन के आवेदन के लिए किन दस्तावेजों की जरूरत होती है ? \\n\n",
        "                                                                             1.कार लोन के आवेदन के लिए आपको निम्नलिखित दस्तावेज देने होंगे \\n\n",
        "                                                                             2.पहचान का प्रमाण \\n\n",
        "                                                                             3.पते का प्रमाण \\n\n",
        "                                                                             4.केवाईसी दस्तावेज \\n\n",
        "                                                                             5.आय का प्रमाण (फॉर्म 16 या 6 माह की वेतन स्लिप) \\n\n",
        "                                                                             6.उम्र का प्रमाण (न्यूनतम 18 साल) \\n\n",
        "                                                                             7.फोटोग्राफ \\n\n",
        "                                                                             8.कार के कागजात''',\n",
        "                    'ghar लोन कैसे अप्लाई करें':'कृपया हमारी वेबसाइट www.sahyogfinance.com पर जाएं और गृह लोन चुनें और फॉर्म भरें और हमारी समीक्षा के लिए 24 घंटे तक प्रतीक्षा करें।',\n",
        "                    'वाहन लोन कैसे अप्लाई करें':'कृपया हमारी वेबसाइट www.sahyogfinance.com पर जाएं और वाहन लोन चुनें और फॉर्म भरें और हमारी समीक्षा के लिए 24 घंटे तक प्रतीक्षा करें',\n",
        "                    'व्यक्तिगत लोन कैसे अप्लाई करें':'कृपया हमारी वेबसाइट www.sahyogfinance.com पर जाएं और व्यक्तिगत लोन चुनें और फॉर्म भरें और हमारी समीक्षा के लिए 1 घंटे तक प्रतीक्षा करें',\n",
        "                    'राशि का भुगतान करने में कितना समय लगेगा':'अंतिम स्वीकृति प्राप्त करने में आपके पंजीकृत बैंक में राशि का भुगतान करने में 1 घंटा लगता है।',\n",
        "                    'आप क्या करते हैं': 'ऋण संबंधी प्रश्नों के उत्तर दें!',\n",
        "                    'क्या मुझे अपने ऋण पर विस्तार मिल सकता है': 'हाँ यदि आप पात्र हैं तो आपको मिलेगा',\n",
        "                    'मैं 50000 उधार लेना चाहता हूं इसके लिए कौन से दस्तावेज आवश्यक हैं': 'आपको आय प्रमाण, आधार कार्ड, पैन नंबर, पुनर्वितरण प्रमाण देना होगा'}"
      ]
    },
    {
      "cell_type": "code",
      "execution_count": null,
      "metadata": {
        "id": "xwsZuVwOqVQq"
      },
      "outputs": [],
      "source": [
        "#Define loan product and repayment data\n",
        "loan_products = {'1': '''20 - 40 वर्ष :- ब्याज दर: 8.5%  अधिभुत अवधि: 60 महीने \\n\n",
        "                         40 - 45 वर्ष :- ब्याज दर: 9.5% अधिभुत अवधि: 48 महीने  \\n\n",
        "                         45 - 55 वर्ष :- ब्याज दर: 10.5% अधिभुत अवधि: 36 महीने''',\n",
        "                 '2': '''20 - 40 वर्ष :- ब्याज दर: 4.5%  अधिभुत अवधि: 60 महीने \\n\n",
        "                         40 - 45 वर्ष :- ब्याज दर: 4.5% अधिभुत अवधि: 48 महीने \\n\n",
        "                         45 - 55 वर्ष :- ब्याज दर: 4.5% अधिभुत अवधि: 48 महीने''',\n",
        "                 '3': '''20 - 40  वर्ष :- ब्याज दर: 8.5% अधिभुत अवधि: 240 महीने \\n\n",
        "                         40 - 45 वर्ष :- ब्याज दर: 9.5% अधिभुत अवधि: 180 महीने  \\n\n",
        "                         45 - 50 वर्ष :- ब्याज दर: 10.5% अधिभुत अवधि: 120 महीने''',\n",
        "                 '4': '''20 - 40  वर्ष :- ब्याज दर: 8.5% अधिभुत अवधि: 60 महीने \\n\n",
        "                         40 - 45 वर्ष :- ब्याज दर: 9.5% अधिभुत अवधि: 60 महीने \\n\n",
        "                         45 - 50 वर्ष :- ब्याज दर: 10.5% अधिभुत अवधि: 48 महीने''',\n",
        "                 '6': 'कृपया इस वेबसाइट www.sahyogfinance.com पर जाएं और लोन के लिए आवेदन करें',\n",
        "                 '7': 'पुनर्भुगतान लिंक आपको मेल पर भेजा जाएगा'}\n",
        "\n",
        "repayment_data = {'देर से भुगतान के लिए जुर्माना': 500 , 'छूटे भुगतान के लिए जुर्माना': 150, 'भुगतान अंतराल': 'मासिक'}\n",
        "#Define customer data\n",
        "repayment_input = ['5','ऋण बकाया राशि']\n",
        "customer_data = {'100001': {'ऋण उत्पाद': 'व्यक्तिगत ऋण', 'ऋण राशि': 10000, 'बकाया राशि': 6500, 'भुगतान इतिहास': 'टाइम पर', 'कार्यकाल':3,'ईएमआई तिथि':'हर महीने की 2 तारीख','नियत तारीख':[10,3,2023],'किस्त राशि':2500},\n",
        "                 '100002': {'ऋण उत्पाद': 'कार ऋण', 'ऋण राशि': 200000, 'बकाया राशि': 40000, 'भुगतान इतिहास': 'टाइम पर','कार्यकाल':60,'ईएमआई तिथि':'हर महीने की 5 तारीख','नियत तारीख':[12,4,2023],'किस्त राशि':3000},\n",
        "                 '100003': {'ऋण उत्पाद': 'घर ऋण', 'ऋण राशि': 5000000, 'बकाया राशि': 4500000, 'भुगतान इतिहास': 'हमेशा देर से','कार्यकाल':240,'ईएमआई तिथि':'हर महीने की 2 तारीख','नियत तारीख':[12,4,2023],'किस्त राशि':2800},\n",
        "                 '100004': {'ऋण उत्पाद': 'व्यक्तिगत ऋण', 'ऋण राशि': 50000, 'बकाया राशि': 25000, 'भुगतान इतिहास': 'टाइम पर','कार्यकाल':10,'ईएमआई तिथि':'हर महीने की 5 तारीख','नियत तारीख':[12,4,2023],'किस्त राशि':1700}}\n",
        "# define enquiry response\n",
        "inquiry_response = ['6','नए आवेदन']"
      ]
    },
    {
      "cell_type": "code",
      "execution_count": null,
      "metadata": {
        "id": "jiXIg1434rx4"
      },
      "outputs": [],
      "source": [
        "repayment_reminder_response = \"{payment_amount:.2f} का भुगतान {due_date} तक करना होगा।\"\n",
        "loan_inquiry_response = \"हम आपको {loan_product} ऋण राशि {loan_amount} के लिए ऋण की जानकारी दे सकते हैं।\""
      ]
    },
    {
      "cell_type": "code",
      "execution_count": null,
      "metadata": {
        "id": "Y94YFNUdTmoq"
      },
      "outputs": [],
      "source": [
        "# fetching raw html data about brac from wiki\n",
        "raw_data = urllib.request.urlopen('https://hi.wikipedia.org/wiki/%E0%A4%8B%E0%A4%A3#:~:text=%E0%A4%8B%E0%A4%A3%20%E0%A4%B5%E0%A4%B9%20%E0%A4%B9%E0%A5%88%2C%20%E0%A4%9C%E0%A5%8B%20%E0%A4%95%E0%A4%BF%E0%A4%B8%E0%A5%80,%E0%A4%95%E0%A5%87%20%E0%A4%AA%E0%A5%8D%E0%A4%B0%E0%A4%AF%E0%A5%8B%E0%A4%97%20%E0%A4%95%E0%A4%BE%20%E0%A4%AE%E0%A4%BE%E0%A4%A7%E0%A5%8D%E0%A4%AF%E0%A4%AE%20%E0%A4%B9%E0%A5%88%E0%A5%A4)')\n",
        "# processing the raw html into more readable data\n",
        "raw_data = raw_data.read()"
      ]
    },
    {
      "cell_type": "code",
      "execution_count": null,
      "metadata": {
        "id": "o97OwnPLTpMb"
      },
      "outputs": [],
      "source": [
        "# turning html into text\n",
        "article = bs.BeautifulSoup(raw_data, 'lxml')"
      ]
    },
    {
      "cell_type": "code",
      "execution_count": null,
      "metadata": {
        "id": "Qpfn7OirTuJT"
      },
      "outputs": [],
      "source": [
        "# extracting paras from the above xml and concatenating with article_text\n",
        "paragraphs = article.find_all('p')\n",
        "\n",
        "article_text = ''\n",
        "\n",
        "for p in paragraphs:\n",
        "    article_text += p.text\n",
        "\n",
        "article_text = article_text.lower()"
      ]
    },
    {
      "cell_type": "code",
      "execution_count": null,
      "metadata": {
        "id": "THJJ_Fr6Tsgj"
      },
      "outputs": [],
      "source": [
        "# getting rid of all the special characters\n",
        "article_text = re.sub(r'\\[[0-9]*\\]', ' ', article_text)\n",
        "article_text = re.sub(r'\\s+', ' ', article_text)"
      ]
    },
    {
      "cell_type": "code",
      "execution_count": null,
      "metadata": {
        "id": "UVcWKEkrI_Fs"
      },
      "outputs": [],
      "source": [
        "# extracting sentences from the article\n",
        "sentences = nltk.sent_tokenize(article_text)"
      ]
    },
    {
      "cell_type": "code",
      "execution_count": null,
      "metadata": {
        "id": "CbsoSdDdHepm"
      },
      "outputs": [],
      "source": [
        "# extracting words from the article\n",
        "words = nltk.word_tokenize(article_text)"
      ]
    },
    {
      "cell_type": "code",
      "execution_count": null,
      "metadata": {
        "id": "sUrZjd23VDOS"
      },
      "outputs": [],
      "source": [
        "lemma = nltk.stem.WordNetLemmatizer()"
      ]
    },
    {
      "cell_type": "code",
      "execution_count": null,
      "metadata": {
        "id": "otzWJ3zrVDRw"
      },
      "outputs": [],
      "source": [
        "# lemmatizing words as a part of pre-processing\n",
        "def perform_lemmatization(tokens):\n",
        "    return [lemma.lemmatize(token) for token in tokens]"
      ]
    },
    {
      "cell_type": "code",
      "execution_count": null,
      "metadata": {
        "id": "Bc1EaMh-VQF1"
      },
      "outputs": [],
      "source": [
        "# removing punctuation\n",
        "remove_punctuation = dict((ord(punc), None) for punc in string.punctuation)"
      ]
    },
    {
      "cell_type": "code",
      "execution_count": null,
      "metadata": {
        "id": "9XybYHAkVQH7"
      },
      "outputs": [],
      "source": [
        "# method to pre-process all the tokens utilizing the above functions\n",
        "def processed_data(document):\n",
        "    return perform_lemmatization(nltk.word_tokenize(document.lower().translate(remove_punctuation)))"
      ]
    },
    {
      "cell_type": "code",
      "execution_count": null,
      "metadata": {
        "id": "g0VRTjvqVQJa"
      },
      "outputs": [],
      "source": [
        "# function for punctuation removal\n",
        "def punc_remove(str):\n",
        "    punctuations = r'''!()-[]{};:'\"\\,<>./?@#$%^&*_~\\n'''\n",
        "    no_punct = ''\n",
        "\n",
        "    for char in str:\n",
        "        if char not in punctuations:\n",
        "            no_punct = no_punct + char\n",
        "\n",
        "    return no_punct"
      ]
    },
    {
      "cell_type": "code",
      "execution_count": null,
      "metadata": {
        "id": "GqO74tPv4hlp"
      },
      "outputs": [],
      "source": [
        "# Define function to handle loan inquiries\n",
        "def handle_loan_inquiry(loan_products, loan_amount):\n",
        "    monthly_payment, total_interest, total_payment = calculate_repayment_details(loan_products, loan_amount)\n",
        "    response = loan_inquiry_response.format(loan_product=loan_products, loan_amount=loan_amount, monthly_payment=monthly_payment, total_interest=total_interest, total_payment=total_payment)\n",
        "    return response"
      ]
    },
    {
      "cell_type": "code",
      "execution_count": null,
      "metadata": {
        "id": "-B1J6MMFrP25"
      },
      "outputs": [],
      "source": [
        "# Define function to calculate loan repayment details\n",
        "def calculate_repayment_details(loan_products, loan_amount):\n",
        "    interest_rate = loan_products[loan_products]['ब्याज दर']\n",
        "    loan_term = loan_products[loan_products]['अधिभुत अवधि']\n",
        "    monthly_interest_rate = interest_rate / 12\n",
        "    monthly_payment = (loan_amount * monthly_interest_rate * (1 + monthly_interest_rate) ** loan_term) / ((1 + monthly_interest_rate) ** loan_term - 1)\n",
        "    total_interest = monthly_payment * loan_term - loan_amount\n",
        "    total_payment = loan_amount + total_interest\n",
        "    return monthly_payment, total_interest, total_payment"
      ]
    },
    {
      "cell_type": "code",
      "execution_count": null,
      "metadata": {
        "id": "i3bakNWv4E27"
      },
      "outputs": [],
      "source": [
        "# Define function to handle loan repayment reminders\n",
        "def handle_repayment_reminder(loan_no):\n",
        "    loan_details = customer_data.get(loan_no)\n",
        "    day, month, year  = loan_details.get('नियत तारीख')\n",
        "    due_date = datetime.date(year, month, day)\n",
        "    current_date = datetime.date.today()\n",
        "    penalty=0\n",
        "    penalty_amount=0.0\n",
        "    if current_date > due_date:\n",
        "        days_late = (current_date-due_date).days\n",
        "        penalty = days_late * repayment_data['देर से भुगतान के लिए जुर्माना']\n",
        "    instalment_amount = loan_details['किस्त राशि']\n",
        "    if penalty>0:\n",
        "      penalty_amount = (instalment_amount*penalty)/100\n",
        "      instalment_amount = instalment_amount + penalty_amount\n",
        "    due_date_str = str(due_date) + ' तक'\n",
        "    response = repayment_reminder_response.format(payment_amount=instalment_amount, due_date=due_date_str)\n",
        "    return response"
      ]
    },
    {
      "cell_type": "code",
      "execution_count": null,
      "metadata": {
        "id": "m1JY1aVwCaDr"
      },
      "outputs": [],
      "source": [
        "# method to generate a loan enquiry\n",
        "def generate_enquiry_response(str):\n",
        "    if punc_remove in inquiry_response:\n",
        "       amount = int(input(\"आप कितना उधार लेना चाहते हैं\"))\n",
        "       name = str(\"आपका क्या नाम है ?\")\n",
        "       print('नमस्ते' + name)\n",
        "       product = str(input('''आप कौन सा उत्पाद लेना चाहते हैं? \\n 1:व्यक्तिगत ऋण \\n 2 : कृषि ऋण \\n 3 : गृह ऋण \\n 4 : वाहन ऋण'''))\n",
        "       amount = int(input(\"आप कितना उधार लेना चाहते हैं\"))\n",
        "       aadhar_no = str(input(\"कृपया अपना आधार नंबर प्रदान करें\"))\n",
        "       pan_no = str(input(\"कृपया अपना पैन नंबर प्रदान करें\"))\n",
        "       return \"हमने आपकी पूछताछ को संग्रहीत कर लिया है हम शीघ्र ही आपसे संपर्क करेंगे।\""
      ]
    },
    {
      "cell_type": "code",
      "execution_count": null,
      "metadata": {
        "id": "pCmCaSbAVQMy"
      },
      "outputs": [],
      "source": [
        "# method to generate a response to greetings\n",
        "def generate_greeting_response(str):\n",
        "    if punc_remove in greeting_inputs:\n",
        "        return random.choice(greeting_responses)"
      ]
    },
    {
      "cell_type": "code",
      "execution_count": null,
      "metadata": {
        "id": "Syr345uvVtTh"
      },
      "outputs": [],
      "source": [
        "# method to generate a response to conversations\n",
        "def generate_convo_response(str):\n",
        "    if punc_remove(str) in convo_inputs:\n",
        "        return random.choice(convo_responses)"
      ]
    },
    {
      "cell_type": "code",
      "execution_count": null,
      "metadata": {
        "id": "C5wgHGHAVvGF"
      },
      "outputs": [],
      "source": [
        "# method to generate a answers to questions\n",
        "def generate_answers(str):\n",
        "    if punc_remove(str) in question_answers:\n",
        "        return question_answers[punc_remove(str)]"
      ]
    },
    {
      "cell_type": "code",
      "execution_count": null,
      "metadata": {
        "id": "-2n43fbZIHJk"
      },
      "outputs": [],
      "source": [
        "# method to generate a loan product response\n",
        "def generate_loan_products_response(str):\n",
        "    if punc_remove(str) in loan_products:\n",
        "        return loan_products[punc_remove(str)]\n"
      ]
    },
    {
      "cell_type": "code",
      "execution_count": null,
      "metadata": {
        "id": "tmsg5_t-0t9C"
      },
      "outputs": [],
      "source": [
        "def generate_repayment_response(str):\n",
        "    if punc_remove(str) in repayment_input:\n",
        "       return \"कृपया अपना ऋण संख्या प्रदान करें।\"\n",
        "    elif str.isdigit():\n",
        "       return handle_repayment_reminder(str)"
      ]
    },
    {
      "cell_type": "code",
      "execution_count": null,
      "metadata": {
        "id": "Kx9W5LDJV2d5"
      },
      "outputs": [],
      "source": [
        "# method to generate response regarding loan enquiries\n",
        "def generate_response(str):\n",
        "    Sahyog_response = ''\n",
        "    sentences.append(str)\n",
        "\n",
        "    word_vectorizer = TfidfVectorizer(tokenizer=processed_data, stop_words='english')\n",
        "    all_word_vectors = word_vectorizer.fit_transform(sentences)\n",
        "    similar_vector_values = cosine_similarity(all_word_vectors[-1], all_word_vectors)\n",
        "    similar_sentence_number = similar_vector_values.argsort()[0][-2]\n",
        "\n",
        "    matched_vector = similar_vector_values.flatten()\n",
        "    matched_vector.sort()\n",
        "    vector_matched = matched_vector[-2]\n",
        "\n",
        "    if vector_matched is 0:\n",
        "        Sahyog_response = Sahyog_response +'क्षमा करें, मेरे डेटाबेस में ऐसा जानकारी नहीं है। कोशिश कुछ अलग और कर्ज से जुड़ा है।'\n",
        "        return Sahyog_response\n",
        "    else:\n",
        "        Sahyog_response = Sahyog_response + sentences[similar_sentence_number]\n",
        "        return Sahyog_response"
      ]
    },
    {
      "cell_type": "code",
      "execution_count": null,
      "metadata": {
        "id": "cYq_9f90V3yT"
      },
      "outputs": [],
      "source": [
        "# chatting with the chatbot -->\n",
        "def run_chatbot(user_input):\n",
        "        if user_input != '8':\n",
        "            if user_input == 'धन्यवाद' or user_input == 'आपका बहुत-बहुत धन्यवाद' or user_input == 'धन्यवाद':\n",
        "                return 'मेरे साथ बात करने के लिए धन्यवाद'\n",
        "            elif user_input in convo_replies:\n",
        "                return 'यह अच्छा है! मैं लोन की सहायता कैसे कर सकता हूं?'\n",
        "            else:\n",
        "                if generate_greeting_response(user_input) is not None:\n",
        "                    return generate_greeting_response(user_input)\n",
        "                elif generate_convo_response(user_input) is not None:\n",
        "                    return generate_convo_response(user_input)\n",
        "                elif generate_answers(user_input) is not None:\n",
        "                    return generate_answers(user_input)\n",
        "                elif generate_loan_products_response(user_input) is not None:\n",
        "                    return generate_loan_products_response(user_input)\n",
        "                elif generate_repayment_response(user_input) is not None:\n",
        "                    return generate_repayment_response(user_input)\n",
        "                elif generate_enquiry_response(user_input) is not None:\n",
        "                    return generate_enquiry_response(user_input)\n",
        "                else:\n",
        "                    return generate_response(user_input)\n",
        "        else:\n",
        "             return 'सहयोग धन्यवाद, जल्द मिलते हैं।'"
      ]
    },
    {
      "cell_type": "code",
      "execution_count": null,
      "metadata": {
        "colab": {
          "base_uri": "https://localhost:8080/"
        },
        "id": "BXzkBOq5ZjlB",
        "outputId": "b3a09e19-30ec-47cc-a750-6de5d649b89e"
      },
      "outputs": [
        {
          "name": "stdout",
          "output_type": "stream",
          "text": [
            "Collecting pyngrok\n",
            "  Downloading pyngrok-6.0.0.tar.gz (681 kB)\n",
            "\u001b[?25l     \u001b[90m━━━━━━━━━━━━━━━━━━━━━━━━━━━━━━━━━━━━━━━━\u001b[0m \u001b[32m0.0/681.2 kB\u001b[0m \u001b[31m?\u001b[0m eta \u001b[36m-:--:--\u001b[0m\r\u001b[2K     \u001b[91m━━━━━━━━━━━━\u001b[0m\u001b[91m╸\u001b[0m\u001b[90m━━━━━━━━━━━━━━━━━━━━━━━━━━\u001b[0m \u001b[32m225.3/681.2 kB\u001b[0m \u001b[31m6.8 MB/s\u001b[0m eta \u001b[36m0:00:01\u001b[0m\r\u001b[2K     \u001b[90m━━━━━━━━━━━━━━━━━━━━━━━━━━━━━━━━━━━━━━\u001b[0m \u001b[32m681.2/681.2 kB\u001b[0m \u001b[31m11.8 MB/s\u001b[0m eta \u001b[36m0:00:00\u001b[0m\n",
            "\u001b[?25h  Preparing metadata (setup.py) ... \u001b[?25l\u001b[?25hdone\n",
            "Requirement already satisfied: PyYAML in /usr/local/lib/python3.10/dist-packages (from pyngrok) (6.0.1)\n",
            "Building wheels for collected packages: pyngrok\n",
            "  Building wheel for pyngrok (setup.py) ... \u001b[?25l\u001b[?25hdone\n",
            "  Created wheel for pyngrok: filename=pyngrok-6.0.0-py3-none-any.whl size=19867 sha256=5c50b312fbb834d974c4443e8b2ac776c37c1e742d28f0cd516ceb5e358eb0b2\n",
            "  Stored in directory: /root/.cache/pip/wheels/5c/42/78/0c3d438d7f5730451a25f7ac6cbf4391759d22a67576ed7c2c\n",
            "Successfully built pyngrok\n",
            "Installing collected packages: pyngrok\n",
            "Successfully installed pyngrok-6.0.0\n"
          ]
        }
      ],
      "source": [
        "pip install pyngrok"
      ]
    },
    {
      "cell_type": "code",
      "execution_count": null,
      "metadata": {
        "colab": {
          "base_uri": "https://localhost:8080/"
        },
        "id": "1kYCB52j9Mfd",
        "outputId": "37adac0b-faf2-4984-a44b-f1d7822c5663"
      },
      "outputs": [
        {
          "name": "stdout",
          "output_type": "stream",
          "text": [
            "Collecting flask-ngrok\n",
            "  Downloading flask_ngrok-0.0.25-py3-none-any.whl (3.1 kB)\n",
            "Requirement already satisfied: Flask>=0.8 in /usr/local/lib/python3.10/dist-packages (from flask-ngrok) (2.2.5)\n",
            "Requirement already satisfied: requests in /usr/local/lib/python3.10/dist-packages (from flask-ngrok) (2.31.0)\n",
            "Requirement already satisfied: Werkzeug>=2.2.2 in /usr/local/lib/python3.10/dist-packages (from Flask>=0.8->flask-ngrok) (2.3.7)\n",
            "Requirement already satisfied: Jinja2>=3.0 in /usr/local/lib/python3.10/dist-packages (from Flask>=0.8->flask-ngrok) (3.1.2)\n",
            "Requirement already satisfied: itsdangerous>=2.0 in /usr/local/lib/python3.10/dist-packages (from Flask>=0.8->flask-ngrok) (2.1.2)\n",
            "Requirement already satisfied: click>=8.0 in /usr/local/lib/python3.10/dist-packages (from Flask>=0.8->flask-ngrok) (8.1.7)\n",
            "Requirement already satisfied: charset-normalizer<4,>=2 in /usr/local/lib/python3.10/dist-packages (from requests->flask-ngrok) (3.2.0)\n",
            "Requirement already satisfied: idna<4,>=2.5 in /usr/local/lib/python3.10/dist-packages (from requests->flask-ngrok) (3.4)\n",
            "Requirement already satisfied: urllib3<3,>=1.21.1 in /usr/local/lib/python3.10/dist-packages (from requests->flask-ngrok) (2.0.4)\n",
            "Requirement already satisfied: certifi>=2017.4.17 in /usr/local/lib/python3.10/dist-packages (from requests->flask-ngrok) (2023.7.22)\n",
            "Requirement already satisfied: MarkupSafe>=2.0 in /usr/local/lib/python3.10/dist-packages (from Jinja2>=3.0->Flask>=0.8->flask-ngrok) (2.1.3)\n",
            "Installing collected packages: flask-ngrok\n",
            "Successfully installed flask-ngrok-0.0.25\n"
          ]
        }
      ],
      "source": [
        "pip install flask-ngrok"
      ]
    },
    {
      "cell_type": "code",
      "execution_count": null,
      "metadata": {
        "colab": {
          "base_uri": "https://localhost:8080/"
        },
        "id": "nRmG8-buZjm0",
        "outputId": "6af96820-45b8-4930-e6ab-c6f1fdd35b3c"
      },
      "outputs": [
        {
          "name": "stdout",
          "output_type": "stream",
          "text": [
            "Mounted at /content/drive\n"
          ]
        }
      ],
      "source": [
        "from google.colab import drive\n",
        "drive.mount('/content/drive')"
      ]
    },
    {
      "cell_type": "code",
      "execution_count": null,
      "metadata": {
        "colab": {
          "base_uri": "https://localhost:8080/"
        },
        "id": "XMCjWPsZZjqL",
        "outputId": "cc1e48a6-30d5-4de0-8f65-8be4e2853c76"
      },
      "outputs": [
        {
          "name": "stdout",
          "output_type": "stream",
          "text": [
            "/content/drive/MyDrive/static\n"
          ]
        }
      ],
      "source": [
        "cd /content/drive/MyDrive/static"
      ]
    },
    {
      "cell_type": "code",
      "execution_count": null,
      "metadata": {
        "id": "aUyBfQqck_qO"
      },
      "outputs": [],
      "source": [
        "from flask_ngrok import run_with_ngrok\n",
        "from pyngrok import ngrok\n",
        "from flask import Flask, render_template, request\n",
        "import numpy as np"
      ]
    },
    {
      "cell_type": "code",
      "execution_count": null,
      "metadata": {
        "colab": {
          "base_uri": "https://localhost:8080/"
        },
        "id": "BNNyXrEBlG_-",
        "outputId": "30d85b25-3032-4cb7-cbed-3f2658cffcaa"
      },
      "outputs": [
        {
          "name": "stdout",
          "output_type": "stream",
          "text": []
        }
      ],
      "source": [
        "ngrok.set_auth_token('2VG0TchODb5QjlNRf15x2hi5sbc_Ngpwbrfkn4ZwCrrecTc')"
      ]
    },
    {
      "cell_type": "code",
      "execution_count": null,
      "metadata": {
        "colab": {
          "base_uri": "https://localhost:8080/"
        },
        "id": "anVCNbhOlNvf",
        "outputId": "02d2d3e4-1761-4ba4-b96b-5cd6dec6dca6"
      },
      "outputs": [
        {
          "name": "stderr",
          "output_type": "stream",
          "text": [
            "WARNING:pyngrok.process.ngrok:t=2023-09-11T15:51:32+0000 lvl=warn msg=\"ngrok config file found at legacy location, move to XDG location\" xdg_path=/root/.config/ngrok/ngrok.yml legacy_path=/root/.ngrok2/ngrok.yml\n"
          ]
        }
      ],
      "source": [
        "public_url = ngrok.connect(5000).public_url"
      ]
    },
    {
      "cell_type": "code",
      "execution_count": null,
      "metadata": {
        "colab": {
          "background_save": true,
          "base_uri": "https://localhost:8080/"
        },
        "id": "ALnYVEjDlSbj",
        "outputId": "1f33ab90-6a6b-4121-ecaf-a5451030f533"
      },
      "outputs": [
        {
          "name": "stdout",
          "output_type": "stream",
          "text": [
            " * Serving Flask app '__main__'\n",
            " * Debug mode: off\n"
          ]
        },
        {
          "name": "stderr",
          "output_type": "stream",
          "text": [
            "INFO:werkzeug:\u001b[31m\u001b[1mWARNING: This is a development server. Do not use it in a production deployment. Use a production WSGI server instead.\u001b[0m\n",
            " * Running on http://127.0.0.1:5000\n",
            "INFO:werkzeug:\u001b[33mPress CTRL+C to quit\u001b[0m\n"
          ]
        },
        {
          "name": "stdout",
          "output_type": "stream",
          "text": [
            " * Running on http://a7a4-34-68-36-181.ngrok-free.app\n",
            " * Traffic stats available on http://127.0.0.1:4040\n"
          ]
        },
        {
          "name": "stderr",
          "output_type": "stream",
          "text": [
            "ERROR:__main__:Exception on / [GET]\n",
            "Traceback (most recent call last):\n",
            "  File \"/usr/local/lib/python3.10/dist-packages/flask/app.py\", line 2529, in wsgi_app\n",
            "    response = self.full_dispatch_request()\n",
            "  File \"/usr/local/lib/python3.10/dist-packages/flask/app.py\", line 1825, in full_dispatch_request\n",
            "    rv = self.handle_user_exception(e)\n",
            "  File \"/usr/local/lib/python3.10/dist-packages/flask/app.py\", line 1823, in full_dispatch_request\n",
            "    rv = self.dispatch_request()\n",
            "  File \"/usr/local/lib/python3.10/dist-packages/flask/app.py\", line 1799, in dispatch_request\n",
            "    return self.ensure_sync(self.view_functions[rule.endpoint])(**view_args)\n",
            "  File \"<ipython-input-37-4c48c3415658>\", line 5, in home\n",
            "    return render_template(\"chatbot.html\")\n",
            "  File \"/usr/local/lib/python3.10/dist-packages/flask/templating.py\", line 146, in render_template\n",
            "    template = app.jinja_env.get_or_select_template(template_name_or_list)\n",
            "  File \"/usr/local/lib/python3.10/dist-packages/jinja2/environment.py\", line 1081, in get_or_select_template\n",
            "    return self.get_template(template_name_or_list, parent, globals)\n",
            "  File \"/usr/local/lib/python3.10/dist-packages/jinja2/environment.py\", line 1010, in get_template\n",
            "    return self._load_template(name, globals)\n",
            "  File \"/usr/local/lib/python3.10/dist-packages/jinja2/environment.py\", line 969, in _load_template\n",
            "    template = self.loader.load(self, name, self.make_globals(globals))\n",
            "  File \"/usr/local/lib/python3.10/dist-packages/jinja2/loaders.py\", line 126, in load\n",
            "    source, filename, uptodate = self.get_source(environment, name)\n",
            "  File \"/usr/local/lib/python3.10/dist-packages/flask/templating.py\", line 62, in get_source\n",
            "    return self._get_source_fast(environment, template)\n",
            "  File \"/usr/local/lib/python3.10/dist-packages/flask/templating.py\", line 98, in _get_source_fast\n",
            "    raise TemplateNotFound(template)\n",
            "jinja2.exceptions.TemplateNotFound: chatbot.html\n",
            "INFO:werkzeug:127.0.0.1 - - [11/Sep/2023 15:51:49] \"\u001b[35m\u001b[1mGET / HTTP/1.1\u001b[0m\" 500 -\n",
            "INFO:werkzeug:127.0.0.1 - - [11/Sep/2023 15:51:50] \"\u001b[33mGET /favicon.ico HTTP/1.1\u001b[0m\" 404 -\n",
            "ERROR:__main__:Exception on / [GET]\n",
            "Traceback (most recent call last):\n",
            "  File \"/usr/local/lib/python3.10/dist-packages/flask/app.py\", line 2529, in wsgi_app\n",
            "    response = self.full_dispatch_request()\n",
            "  File \"/usr/local/lib/python3.10/dist-packages/flask/app.py\", line 1825, in full_dispatch_request\n",
            "    rv = self.handle_user_exception(e)\n",
            "  File \"/usr/local/lib/python3.10/dist-packages/flask/app.py\", line 1823, in full_dispatch_request\n",
            "    rv = self.dispatch_request()\n",
            "  File \"/usr/local/lib/python3.10/dist-packages/flask/app.py\", line 1799, in dispatch_request\n",
            "    return self.ensure_sync(self.view_functions[rule.endpoint])(**view_args)\n",
            "  File \"<ipython-input-37-4c48c3415658>\", line 5, in home\n",
            "    return render_template(\"chatbot.html\")\n",
            "  File \"/usr/local/lib/python3.10/dist-packages/flask/templating.py\", line 146, in render_template\n",
            "    template = app.jinja_env.get_or_select_template(template_name_or_list)\n",
            "  File \"/usr/local/lib/python3.10/dist-packages/jinja2/environment.py\", line 1081, in get_or_select_template\n",
            "    return self.get_template(template_name_or_list, parent, globals)\n",
            "  File \"/usr/local/lib/python3.10/dist-packages/jinja2/environment.py\", line 1010, in get_template\n",
            "    return self._load_template(name, globals)\n",
            "  File \"/usr/local/lib/python3.10/dist-packages/jinja2/environment.py\", line 969, in _load_template\n",
            "    template = self.loader.load(self, name, self.make_globals(globals))\n",
            "  File \"/usr/local/lib/python3.10/dist-packages/jinja2/loaders.py\", line 126, in load\n",
            "    source, filename, uptodate = self.get_source(environment, name)\n",
            "  File \"/usr/local/lib/python3.10/dist-packages/flask/templating.py\", line 62, in get_source\n",
            "    return self._get_source_fast(environment, template)\n",
            "  File \"/usr/local/lib/python3.10/dist-packages/flask/templating.py\", line 98, in _get_source_fast\n",
            "    raise TemplateNotFound(template)\n",
            "jinja2.exceptions.TemplateNotFound: chatbot.html\n",
            "INFO:werkzeug:127.0.0.1 - - [11/Sep/2023 15:52:28] \"\u001b[35m\u001b[1mGET / HTTP/1.1\u001b[0m\" 500 -\n"
          ]
        }
      ],
      "source": [
        "app = Flask(__name__)\n",
        "run_with_ngrok(app)\n",
        "@app.route(\"/\")\n",
        "def home():\n",
        "    return render_template(\"chatbot.html\")\n",
        "@app.route(\"/get\")\n",
        "def get_bot_response():\n",
        "    user_input = request.args.get('msg')\n",
        "    return run_chatbot(user_input)\n",
        "app.run()\n",
        "if __name__ == \"__main__\":\n",
        "    app.run()"
      ]
    }
  ],
  "metadata": {
    "colab": {
      "provenance": [],
      "include_colab_link": true
    },
    "kernelspec": {
      "display_name": "Python 3",
      "name": "python3"
    },
    "language_info": {
      "name": "python"
    }
  },
  "nbformat": 4,
  "nbformat_minor": 0
}